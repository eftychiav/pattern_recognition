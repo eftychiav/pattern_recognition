{
  "nbformat": 4,
  "nbformat_minor": 0,
  "metadata": {
    "colab": {
      "provenance": [],
      "authorship_tag": "ABX9TyMosjkZ4bBlpWe6H7eCUUtQ",
      "include_colab_link": true
    },
    "kernelspec": {
      "name": "python3",
      "display_name": "Python 3"
    },
    "language_info": {
      "name": "python"
    }
  },
  "cells": [
    {
      "cell_type": "markdown",
      "metadata": {
        "id": "view-in-github",
        "colab_type": "text"
      },
      "source": [
        "<a href=\"https://colab.research.google.com/github/eftychiav/pattern_recognition/blob/main/hw2_pr_3_wine.ipynb\" target=\"_parent\"><img src=\"https://colab.research.google.com/assets/colab-badge.svg\" alt=\"Open In Colab\"/></a>"
      ]
    },
    {
      "cell_type": "code",
      "execution_count": null,
      "metadata": {
        "id": "YS8o-7fk7KUA",
        "colab": {
          "base_uri": "https://localhost:8080/"
        },
        "outputId": "aab66cc1-6637-41b5-ee8c-081aedd76b05"
      },
      "outputs": [
        {
          "output_type": "stream",
          "name": "stdout",
          "text": [
            "(59, 14)\n",
            "(71, 14)\n"
          ]
        }
      ],
      "source": [
        "import numpy as np\n",
        "import zipfile\n",
        "\n",
        "path_to_zip_file = 'wine.zip'\n",
        "directory_to_extract_to = 'wine'\n",
        "with zipfile.ZipFile(path_to_zip_file, 'r') as zip_ref:\n",
        "    zip_ref.extractall(directory_to_extract_to)\n",
        "\n",
        "data_array = np.genfromtxt(\"wine/wine.data\", delimiter=\",\", dtype=float)\n",
        "data_c1 = data_array[data_array[:, 0] == 1]\n",
        "data_c2 = data_array[data_array[:, 0] == 2]\n",
        "data_c3 = data_array[data_array[:, 0] == 3]\n",
        "print(data_c1.shape)\n",
        "print(data_c2.shape)"
      ]
    },
    {
      "cell_type": "code",
      "source": [
        "from sklearn import svm\n",
        "from sklearn.metrics import accuracy_score\n",
        "\n",
        "data_c2_c3 = np.vstack((data_c2, data_c3))\n",
        "data_5 = data_c2_c3[:, 1:6]\n",
        "labels = data_c2_c3[:, 0]\n",
        "# print(data_5.shape)\n",
        "\n",
        "train_size = 0.5\n",
        "val_size = 0.25\n",
        "test_size = 0.25\n",
        "\n",
        "np.random.seed(16)  # For reproducibility\n",
        "indices = np.arange(data_5.shape[0])\n",
        "np.random.shuffle(indices)\n",
        "\n",
        "train_end = int(train_size * len(indices))\n",
        "val_end = train_end + int(val_size * len(indices))\n",
        "\n",
        "train_indices = indices[:train_end]\n",
        "val_indices = indices[train_end:val_end]\n",
        "test_indices = indices[val_end:]\n",
        "\n",
        "X_train, y_train = data_5[train_indices], labels[train_indices]\n",
        "X_val, y_val = data_5[val_indices], labels[val_indices]\n",
        "X_test, y_test = data_5[test_indices], labels[test_indices]\n",
        "\n",
        "# Define a range of C values to test\n",
        "C_values = [0.01, 0.1, 1, 10, 100]\n",
        "best_C = None\n",
        "best_val_accuracy = 0\n",
        "\n",
        "# Hyperparameter tuning for C using the validation set\n",
        "for C in C_values:\n",
        "    model = svm.SVC(kernel='linear', C=C)\n",
        "    model.fit(X_train, y_train)\n",
        "    y_val_pred = model.predict(X_val)\n",
        "    val_accuracy = accuracy_score(y_val, y_val_pred)\n",
        "    print(f\"C: {C}, Validation Accuracy: {val_accuracy:.2f}\")\n",
        "\n",
        "    # Update the best C if the current model performs better\n",
        "    if val_accuracy > best_val_accuracy:\n",
        "        best_val_accuracy = val_accuracy\n",
        "        best_C = C\n",
        "\n",
        "print(f\"Best C: {best_C} with Validation Accuracy: {best_val_accuracy:.2f}\")\n",
        "\n",
        "# Train final model on the training set with best C and evaluate on test set\n",
        "final_model = svm.SVC(kernel='linear', C=best_C)\n",
        "final_model.fit(X_train, y_train)\n",
        "y_test_pred = final_model.predict(X_test)\n",
        "\n",
        "# Calculate and print the classification error on the test set\n",
        "test_accuracy = accuracy_score(y_test, y_test_pred)\n",
        "test_error = 1 - test_accuracy\n",
        "print(f\"Test Accuracy: {test_accuracy:.2f}\")\n",
        "print(f\"Classification Error on Test Set: {test_error:.2f}\")"
      ],
      "metadata": {
        "colab": {
          "base_uri": "https://localhost:8080/"
        },
        "id": "cNWLn_U28tXD",
        "outputId": "a0895db9-5818-4cd4-ef14-822a1d7ec81f"
      },
      "execution_count": null,
      "outputs": [
        {
          "output_type": "stream",
          "name": "stdout",
          "text": [
            "C: 0.01, Validation Accuracy: 0.55\n",
            "C: 0.1, Validation Accuracy: 0.79\n",
            "C: 1, Validation Accuracy: 0.76\n",
            "C: 10, Validation Accuracy: 0.76\n",
            "C: 100, Validation Accuracy: 0.76\n",
            "Best C: 0.1 with Validation Accuracy: 0.79\n",
            "Test Accuracy: 0.97\n",
            "Classification Error on Test Set: 0.03\n"
          ]
        }
      ]
    },
    {
      "cell_type": "code",
      "source": [
        "# Number of random splits\n",
        "num_splits = 5\n",
        "test_errors = []\n",
        "\n",
        "# Loop over the 5 random splits\n",
        "for split in range(num_splits):\n",
        "    # Shuffle indices and split into train, validation, and test sets\n",
        "    np.random.seed(split)  # Different seed for each split\n",
        "    indices = np.arange(data_5.shape[0])\n",
        "    np.random.shuffle(indices)\n",
        "\n",
        "    train_end = int(0.5 * len(indices))\n",
        "    val_end = train_end + int(0.25 * len(indices))\n",
        "\n",
        "    train_indices = indices[:train_end]\n",
        "    val_indices = indices[train_end:val_end]\n",
        "    test_indices = indices[val_end:]\n",
        "\n",
        "    # Create train, validation, and test sets\n",
        "    X_train, y_train = data_5[train_indices], labels[train_indices]\n",
        "    X_val, y_val = data_5[val_indices], labels[val_indices]\n",
        "    X_test, y_test = data_5[test_indices], labels[test_indices]\n",
        "\n",
        "    # Hyperparameter tuning for C using the validation set\n",
        "    best_C = None\n",
        "    best_val_accuracy = 0\n",
        "\n",
        "    for C in C_values:\n",
        "        model = svm.SVC(kernel='linear', C=C)\n",
        "        model.fit(X_train, y_train)\n",
        "        y_val_pred = model.predict(X_val)\n",
        "        val_accuracy = accuracy_score(y_val, y_val_pred)\n",
        "\n",
        "        # Update the best C if the current model performs better\n",
        "        if val_accuracy > best_val_accuracy:\n",
        "            best_val_accuracy = val_accuracy\n",
        "            best_C = C\n",
        "\n",
        "    # Train final model on the training set with best C and evaluate on test set\n",
        "    final_model = svm.SVC(kernel='linear', C=best_C)\n",
        "    final_model.fit(X_train, y_train)\n",
        "    y_test_pred = final_model.predict(X_test)\n",
        "\n",
        "    # Calculate the classification error on the test set\n",
        "    test_accuracy = accuracy_score(y_test, y_test_pred)\n",
        "    test_error = 1 - test_accuracy\n",
        "    test_errors.append(test_error)\n",
        "\n",
        "    print(f\"Split {split + 1}: Best C: {best_C}, Test Classification Error: {test_error:.2f}\")\n",
        "\n",
        "# Calculate mean and standard deviation of the test classification errors\n",
        "mean_test_error = np.mean(test_errors)\n",
        "std_test_error = np.std(test_errors)\n",
        "\n",
        "print(f\"Mean Test Classification Error: {mean_test_error:.2f}\")\n",
        "print(f\"Standard Deviation of Test Classification Error: {std_test_error:.2f}\")"
      ],
      "metadata": {
        "colab": {
          "base_uri": "https://localhost:8080/"
        },
        "id": "K1Z5UsI1YAM0",
        "outputId": "0bcde578-fb97-4617-878f-b2482d88eac2"
      },
      "execution_count": null,
      "outputs": [
        {
          "output_type": "stream",
          "name": "stdout",
          "text": [
            "Split 1: Best C: 0.1, Test Classification Error: 0.23\n",
            "Split 2: Best C: 10, Test Classification Error: 0.26\n",
            "Split 3: Best C: 10, Test Classification Error: 0.19\n",
            "Split 4: Best C: 1, Test Classification Error: 0.19\n",
            "Split 5: Best C: 0.1, Test Classification Error: 0.13\n",
            "Mean Test Classification Error: 0.20\n",
            "Standard Deviation of Test Classification Error: 0.04\n"
          ]
        }
      ]
    },
    {
      "cell_type": "code",
      "source": [
        "from sklearn import svm\n",
        "from sklearn.metrics import accuracy_score\n",
        "\n",
        "data_c2_c3 = np.vstack((data_c2, data_c3))\n",
        "data_5 = data_c2_c3[:, 1:6]\n",
        "labels = data_c2_c3[:, 0]\n",
        "# print(data_5.shape)\n",
        "\n",
        "train_size = 0.5\n",
        "val_size = 0.25\n",
        "test_size = 0.25\n",
        "\n",
        "np.random.seed(16)  # For reproducibility\n",
        "indices = np.arange(data_5.shape[0])\n",
        "np.random.shuffle(indices)\n",
        "\n",
        "train_end = int(train_size * len(indices))\n",
        "val_end = train_end + int(val_size * len(indices))\n",
        "\n",
        "train_indices = indices[:train_end]\n",
        "val_indices = indices[train_end:val_end]\n",
        "test_indices = indices[val_end:]\n",
        "\n",
        "X_train, y_train = data_5[train_indices], labels[train_indices]\n",
        "X_val, y_val = data_5[val_indices], labels[val_indices]\n",
        "X_test, y_test = data_5[test_indices], labels[test_indices]\n",
        "\n",
        "# Define a range of C values to test\n",
        "C_values = [0.01, 0.1, 1, 10, 100]\n",
        "best_C = None\n",
        "best_val_accuracy = 0\n",
        "\n",
        "# Hyperparameter tuning for C using the validation set\n",
        "for C in C_values:\n",
        "    model = svm.SVC(kernel='rbf', C=C)\n",
        "    model.fit(X_train, y_train)\n",
        "    y_val_pred = model.predict(X_val)\n",
        "    val_accuracy = accuracy_score(y_val, y_val_pred)\n",
        "    print(f\"C: {C}, Validation Accuracy: {val_accuracy:.2f}\")\n",
        "\n",
        "    # Update the best C if the current model performs better\n",
        "    if val_accuracy > best_val_accuracy:\n",
        "        best_val_accuracy = val_accuracy\n",
        "        best_C = C\n",
        "\n",
        "print(f\"Best C: {best_C} with Validation Accuracy: {best_val_accuracy:.2f}\")\n",
        "\n",
        "# Train final model on the training set with best C and evaluate on test set\n",
        "final_model = svm.SVC(kernel='linear', C=best_C)\n",
        "final_model.fit(X_train, y_train)\n",
        "y_test_pred = final_model.predict(X_test)\n",
        "\n",
        "# Calculate and print the classification error on the test set\n",
        "test_accuracy = accuracy_score(y_test, y_test_pred)\n",
        "test_error = 1 - test_accuracy\n",
        "print(f\"Test Accuracy: {test_accuracy:.2f}\")\n",
        "print(f\"Classification Error on Test Set: {test_error:.2f}\")"
      ],
      "metadata": {
        "colab": {
          "base_uri": "https://localhost:8080/"
        },
        "id": "iX3NqpEtBSPr",
        "outputId": "0d4c1150-1112-4c54-841a-a96f0a70684e"
      },
      "execution_count": null,
      "outputs": [
        {
          "output_type": "stream",
          "name": "stdout",
          "text": [
            "C: 0.01, Validation Accuracy: 0.52\n",
            "C: 0.1, Validation Accuracy: 0.52\n",
            "C: 1, Validation Accuracy: 0.52\n",
            "C: 10, Validation Accuracy: 0.52\n",
            "C: 100, Validation Accuracy: 0.79\n",
            "Best C: 100 with Validation Accuracy: 0.79\n",
            "Test Accuracy: 0.90\n",
            "Classification Error on Test Set: 0.10\n"
          ]
        }
      ]
    },
    {
      "cell_type": "code",
      "source": [
        "from sklearn import svm\n",
        "from sklearn.metrics import accuracy_score\n",
        "\n",
        "data_c2_c3 = np.vstack((data_c2, data_c3))\n",
        "data_5 = data_c2_c3[:, 1:6]\n",
        "labels = data_c2_c3[:, 0]\n",
        "# print(data_5.shape)\n",
        "\n",
        "train_size = 0.5\n",
        "val_size = 0.25\n",
        "test_size = 0.25\n",
        "\n",
        "np.random.seed(16)  # For reproducibility\n",
        "indices = np.arange(data_5.shape[0])\n",
        "np.random.shuffle(indices)\n",
        "\n",
        "train_end = int(train_size * len(indices))\n",
        "val_end = train_end + int(val_size * len(indices))\n",
        "\n",
        "train_indices = indices[:train_end]\n",
        "val_indices = indices[train_end:val_end]\n",
        "test_indices = indices[val_end:]\n",
        "\n",
        "X_train, y_train = data_5[train_indices], labels[train_indices]\n",
        "X_val, y_val = data_5[val_indices], labels[val_indices]\n",
        "X_test, y_test = data_5[test_indices], labels[test_indices]\n",
        "\n",
        "# Define a range of C values to test\n",
        "C_values = [0.01, 0.1, 1, 10, 100]\n",
        "best_C = None\n",
        "best_val_accuracy = 0\n",
        "\n",
        "# Hyperparameter tuning for C using the validation set\n",
        "for C in C_values:\n",
        "    model = svm.SVC(kernel='poly', C=C)\n",
        "    model.fit(X_train, y_train)\n",
        "    y_val_pred = model.predict(X_val)\n",
        "    val_accuracy = accuracy_score(y_val, y_val_pred)\n",
        "    print(f\"C: {C}, Validation Accuracy: {val_accuracy:.2f}\")\n",
        "\n",
        "    # Update the best C if the current model performs better\n",
        "    if val_accuracy > best_val_accuracy:\n",
        "        best_val_accuracy = val_accuracy\n",
        "        best_C = C\n",
        "\n",
        "print(f\"Best C: {best_C} with Validation Accuracy: {best_val_accuracy:.2f}\")\n",
        "\n",
        "# Train final model on the training set with best C and evaluate on test set\n",
        "final_model = svm.SVC(kernel='linear', C=best_C)\n",
        "final_model.fit(X_train, y_train)\n",
        "y_test_pred = final_model.predict(X_test)\n",
        "\n",
        "# Calculate and print the classification error on the test set\n",
        "test_accuracy = accuracy_score(y_test, y_test_pred)\n",
        "test_error = 1 - test_accuracy\n",
        "print(f\"Test Accuracy: {test_accuracy:.2f}\")\n",
        "print(f\"Classification Error on Test Set: {test_error:.2f}\")"
      ],
      "metadata": {
        "colab": {
          "base_uri": "https://localhost:8080/"
        },
        "id": "4bUB1y98Y98O",
        "outputId": "6b9356a9-2c19-48e5-8474-6f724b0f0a7f"
      },
      "execution_count": null,
      "outputs": [
        {
          "output_type": "stream",
          "name": "stdout",
          "text": [
            "C: 0.01, Validation Accuracy: 0.52\n",
            "C: 0.1, Validation Accuracy: 0.52\n",
            "C: 1, Validation Accuracy: 0.52\n",
            "C: 10, Validation Accuracy: 0.76\n",
            "C: 100, Validation Accuracy: 0.86\n",
            "Best C: 100 with Validation Accuracy: 0.86\n",
            "Test Accuracy: 0.90\n",
            "Classification Error on Test Set: 0.10\n"
          ]
        }
      ]
    },
    {
      "cell_type": "code",
      "source": [],
      "metadata": {
        "id": "cdPE-iUUZHMv"
      },
      "execution_count": null,
      "outputs": []
    }
  ]
}